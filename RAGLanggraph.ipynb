
    {
      "cell_type": "code",
      "execution_count": null,
      "metadata": {
        "colab": {
          "base_uri": "https://localhost:8080/"
        },
        "id": "3KCMc18pO-v5",
        "outputId": "d60e07fb-4572-41cc-e437-0e117a8054f0"
      },
      "outputs": [
        {
          "name": "stdout",
          "output_type": "stream",
          "text": [
            "Requirement already satisfied: langchain in /usr/local/lib/python3.11/dist-packages (0.3.19)\n",
            "Collecting langgraph\n",
            "  Downloading langgraph-0.2.74-py3-none-any.whl.metadata (17 kB)\n",
            "Collecting cassio\n",
            "  Downloading cassio-0.1.10-py3-none-any.whl.metadata (4.1 kB)\n",
            "Requirement already satisfied: langchain-core<1.0.0,>=0.3.35 in /usr/local/lib/python3.11/dist-packages (from langchain) (0.3.37)\n",
            "Requirement already satisfied: langchain-text-splitters<1.0.0,>=0.3.6 in /usr/local/lib/python3.11/dist-packages (from langchain) (0.3.6)\n",
            "Requirement already satisfied: langsmith<0.4,>=0.1.17 in /usr/local/lib/python3.11/dist-packages (from langchain) (0.3.8)\n",
            "Requirement already satisfied: pydantic<3.0.0,>=2.7.4 in /usr/local/lib/python3.11/dist-packages (from langchain) (2.10.6)\n",
            "Requirement already satisfied: SQLAlchemy<3,>=1.4 in /usr/local/lib/python3.11/dist-packages (from langchain) (2.0.38)\n",
            "Requirement already satisfied: requests<3,>=2 in /usr/local/lib/python3.11/dist-packages (from langchain) (2.32.3)\n",
            "Requirement already satisfied: PyYAML>=5.3 in /usr/local/lib/python3.11/dist-packages (from langchain) (6.0.2)\n",
            "Requirement already satisfied: aiohttp<4.0.0,>=3.8.3 in /usr/local/lib/python3.11/dist-packages (from langchain) (3.11.12)\n",
            "Requirement already satisfied: tenacity!=8.4.0,<10,>=8.1.0 in /usr/local/lib/python3.11/dist-packages (from langchain) (9.0.0)\n",
            "Requirement already satisfied: numpy<2,>=1.26.4 in /usr/local/lib/python3.11/dist-packages (from langchain) (1.26.4)\n",
            "Collecting langgraph-checkpoint<3.0.0,>=2.0.10 (from langgraph)\n",
            "  Downloading langgraph_checkpoint-2.0.16-py3-none-any.whl.metadata (4.6 kB)\n",
            "Collecting langgraph-sdk<0.2.0,>=0.1.42 (from langgraph)\n",
            "  Downloading langgraph_sdk-0.1.53-py3-none-any.whl.metadata (1.8 kB)\n",
            "Collecting cassandra-driver<4.0.0,>=3.28.0 (from cassio)\n",
            "  Downloading cassandra_driver-3.29.2-cp311-cp311-manylinux_2_17_x86_64.manylinux2014_x86_64.whl.metadata (6.2 kB)\n",
            "Requirement already satisfied: aiohappyeyeballs>=2.3.0 in /usr/local/lib/python3.11/dist-packages (from aiohttp<4.0.0,>=3.8.3->langchain) (2.4.6)\n",
            "Requirement already satisfied: aiosignal>=1.1.2 in /usr/local/lib/python3.11/dist-packages (from aiohttp<4.0.0,>=3.8.3->langchain) (1.3.2)\n",
            "Requirement already satisfied: attrs>=17.3.0 in /usr/local/lib/python3.11/dist-packages (from aiohttp<4.0.0,>=3.8.3->langchain) (25.1.0)\n",
            "Requirement already satisfied: frozenlist>=1.1.1 in /usr/local/lib/python3.11/dist-packages (from aiohttp<4.0.0,>=3.8.3->langchain) (1.5.0)\n",
            "Requirement already satisfied: multidict<7.0,>=4.5 in /usr/local/lib/python3.11/dist-packages (from aiohttp<4.0.0,>=3.8.3->langchain) (6.1.0)\n",
            "Requirement already satisfied: propcache>=0.2.0 in /usr/local/lib/python3.11/dist-packages (from aiohttp<4.0.0,>=3.8.3->langchain) (0.2.1)\n",
            "Requirement already satisfied: yarl<2.0,>=1.17.0 in /usr/local/lib/python3.11/dist-packages (from aiohttp<4.0.0,>=3.8.3->langchain) (1.18.3)\n",
            "Collecting geomet<0.3,>=0.1 (from cassandra-driver<4.0.0,>=3.28.0->cassio)\n",
            "  Downloading geomet-0.2.1.post1-py3-none-any.whl.metadata (1.0 kB)\n",
            "Requirement already satisfied: jsonpatch<2.0,>=1.33 in /usr/local/lib/python3.11/dist-packages (from langchain-core<1.0.0,>=0.3.35->langchain) (1.33)\n",
            "Requirement already satisfied: packaging<25,>=23.2 in /usr/local/lib/python3.11/dist-packages (from langchain-core<1.0.0,>=0.3.35->langchain) (24.2)\n",
            "Requirement already satisfied: typing-extensions>=4.7 in /usr/local/lib/python3.11/dist-packages (from langchain-core<1.0.0,>=0.3.35->langchain) (4.12.2)\n",
            "Requirement already satisfied: msgpack<2.0.0,>=1.1.0 in /usr/local/lib/python3.11/dist-packages (from langgraph-checkpoint<3.0.0,>=2.0.10->langgraph) (1.1.0)\n",
            "Requirement already satisfied: httpx>=0.25.2 in /usr/local/lib/python3.11/dist-packages (from langgraph-sdk<0.2.0,>=0.1.42->langgraph) (0.28.1)\n",
            "Requirement already satisfied: orjson>=3.10.1 in /usr/local/lib/python3.11/dist-packages (from langgraph-sdk<0.2.0,>=0.1.42->langgraph) (3.10.15)\n",
            "Requirement already satisfied: requests-toolbelt<2.0.0,>=1.0.0 in /usr/local/lib/python3.11/dist-packages (from langsmith<0.4,>=0.1.17->langchain) (1.0.0)\n",
            "Requirement already satisfied: zstandard<0.24.0,>=0.23.0 in /usr/local/lib/python3.11/dist-packages (from langsmith<0.4,>=0.1.17->langchain) (0.23.0)\n",
            "Requirement already satisfied: annotated-types>=0.6.0 in /usr/local/lib/python3.11/dist-packages (from pydantic<3.0.0,>=2.7.4->langchain) (0.7.0)\n",
            "Requirement already satisfied: pydantic-core==2.27.2 in /usr/local/lib/python3.11/dist-packages (from pydantic<3.0.0,>=2.7.4->langchain) (2.27.2)\n",
            "Requirement already satisfied: charset-normalizer<4,>=2 in /usr/local/lib/python3.11/dist-packages (from requests<3,>=2->langchain) (3.4.1)\n",
            "Requirement already satisfied: idna<4,>=2.5 in /usr/local/lib/python3.11/dist-packages (from requests<3,>=2->langchain) (3.10)\n",
            "Requirement already satisfied: urllib3<3,>=1.21.1 in /usr/local/lib/python3.11/dist-packages (from requests<3,>=2->langchain) (2.3.0)\n",
            "Requirement already satisfied: certifi>=2017.4.17 in /usr/local/lib/python3.11/dist-packages (from requests<3,>=2->langchain) (2025.1.31)\n",
            "Requirement already satisfied: greenlet!=0.4.17 in /usr/local/lib/python3.11/dist-packages (from SQLAlchemy<3,>=1.4->langchain) (3.1.1)\n",
            "Requirement already satisfied: click in /usr/local/lib/python3.11/dist-packages (from geomet<0.3,>=0.1->cassandra-driver<4.0.0,>=3.28.0->cassio) (8.1.8)\n",
            "Requirement already satisfied: six in /usr/local/lib/python3.11/dist-packages (from geomet<0.3,>=0.1->cassandra-driver<4.0.0,>=3.28.0->cassio) (1.17.0)\n",
            "Requirement already satisfied: anyio in /usr/local/lib/python3.11/dist-packages (from httpx>=0.25.2->langgraph-sdk<0.2.0,>=0.1.42->langgraph) (3.7.1)\n",
            "Requirement already satisfied: httpcore==1.* in /usr/local/lib/python3.11/dist-packages (from httpx>=0.25.2->langgraph-sdk<0.2.0,>=0.1.42->langgraph) (1.0.7)\n",
            "Requirement already satisfied: h11<0.15,>=0.13 in /usr/local/lib/python3.11/dist-packages (from httpcore==1.*->httpx>=0.25.2->langgraph-sdk<0.2.0,>=0.1.42->langgraph) (0.14.0)\n",
            "Requirement already satisfied: jsonpointer>=1.9 in /usr/local/lib/python3.11/dist-packages (from jsonpatch<2.0,>=1.33->langchain-core<1.0.0,>=0.3.35->langchain) (3.0.0)\n",
            "Requirement already satisfied: sniffio>=1.1 in /usr/local/lib/python3.11/dist-packages (from anyio->httpx>=0.25.2->langgraph-sdk<0.2.0,>=0.1.42->langgraph) (1.3.1)\n",
            "Downloading langgraph-0.2.74-py3-none-any.whl (151 kB)\n",
            "\u001b[2K   \u001b[90m━━━━━━━━━━━━━━━━━━━━━━━━━━━━━━━━━━━━━━━━\u001b[0m \u001b[32m151.4/151.4 kB\u001b[0m \u001b[31m3.9 MB/s\u001b[0m eta \u001b[36m0:00:00\u001b[0m\n",
            "\u001b[?25hDownloading cassio-0.1.10-py3-none-any.whl (45 kB)\n",
            "\u001b[2K   \u001b[90m━━━━━━━━━━━━━━━━━━━━━━━━━━━━━━━━━━━━━━━━\u001b[0m \u001b[32m45.7/45.7 kB\u001b[0m \u001b[31m1.3 MB/s\u001b[0m eta \u001b[36m0:00:00\u001b[0m\n",
            "\u001b[?25hDownloading cassandra_driver-3.29.2-cp311-cp311-manylinux_2_17_x86_64.manylinux2014_x86_64.whl (3.9 MB)\n",
            "\u001b[2K   \u001b[90m━━━━━━━━━━━━━━━━━━━━━━━━━━━━━━━━━━━━━━━━\u001b[0m \u001b[32m3.9/3.9 MB\u001b[0m \u001b[31m45.2 MB/s\u001b[0m eta \u001b[36m0:00:00\u001b[0m\n",
            "\u001b[?25hDownloading langgraph_checkpoint-2.0.16-py3-none-any.whl (38 kB)\n",
            "Downloading langgraph_sdk-0.1.53-py3-none-any.whl (45 kB)\n",
            "\u001b[2K   \u001b[90m━━━━━━━━━━━━━━━━━━━━━━━━━━━━━━━━━━━━━━━━\u001b[0m \u001b[32m45.4/45.4 kB\u001b[0m \u001b[31m3.4 MB/s\u001b[0m eta \u001b[36m0:00:00\u001b[0m\n",
            "\u001b[?25hDownloading geomet-0.2.1.post1-py3-none-any.whl (18 kB)\n",
            "Installing collected packages: geomet, cassandra-driver, langgraph-sdk, cassio, langgraph-checkpoint, langgraph\n",
            "Successfully installed cassandra-driver-3.29.2 cassio-0.1.10 geomet-0.2.1.post1 langgraph-0.2.74 langgraph-checkpoint-2.0.16 langgraph-sdk-0.1.53\n",
            "Collecting python-dotenv\n",
            "  Downloading python_dotenv-1.0.1-py3-none-any.whl.metadata (23 kB)\n",
            "Downloading python_dotenv-1.0.1-py3-none-any.whl (19 kB)\n",
            "Installing collected packages: python-dotenv\n",
            "Successfully installed python-dotenv-1.0.1\n"
          ]
        }
      ],
      "source": [
        "## Signed up to Datastax astra DB to access the vector database --> created a serverless vector DB and saved it DB ID + created a new admin user token and downloaded the JSON file\n",
        "!pip install langchain langgraph cassio\n",
        "!pip install python-dotenv"
      ]
    },
    {
      "cell_type": "code",
      "execution_count": null,
      "metadata": {
        "id": "dtPrlg6lVMRb"
      },
      "outputs": [],
      "source": [
        "from dotenv import load_dotenv\n",
        "import cassio, os\n",
        "\n",
        "load_dotenv()\n",
        "\n",
        "##connection of Astra DB\n",
        "ASTRA_DB_TOKEN = \"<ASTRA DB TOKEN>\"\n",
        "ASTRA_DB_ID = os.getenv(\"ASTRA_DB_ID\")\n",
        "cassio.init(token=ASTRA_DB_TOKEN, database_id = ASTRA_DB_ID)\n",
        "\n",
        "##token=ASTRA_DB_TOKEN → Authentication token for secure access to Astra DB.\n",
        "##database_id=ASTRA_DB_ID → The unique identifier for your Astra DB instance."
      ]
    },
    {
      "cell_type": "code",
      "execution_count": null,
      "metadata": {
        "colab": {
          "base_uri": "https://localhost:8080/"
        },
        "id": "LMXgSbTOWBWu",
        "outputId": "f81c7428-08a8-41ec-bcff-426022bc7c3f"
      },
      "outputs": [
        {
          "name": "stdout",
          "output_type": "stream",
          "text": [
            "Collecting langchain_community\n",
            "  Downloading langchain_community-0.3.18-py3-none-any.whl.metadata (2.4 kB)\n",
            "Collecting langchain_groq\n",
            "  Downloading langchain_groq-0.2.4-py3-none-any.whl.metadata (3.0 kB)\n",
            "Collecting langchainhub\n",
            "  Downloading langchainhub-0.1.21-py3-none-any.whl.metadata (659 bytes)\n",
            "Collecting tiktoken\n",
            "  Downloading tiktoken-0.9.0-cp311-cp311-manylinux_2_17_x86_64.manylinux2014_x86_64.whl.metadata (6.7 kB)\n",
            "Requirement already satisfied: langchain in /usr/local/lib/python3.11/dist-packages (0.3.19)\n",
            "Requirement already satisfied: langgraph in /usr/local/lib/python3.11/dist-packages (0.2.74)\n",
            "Collecting langchain_huggingface\n",
            "  Downloading langchain_huggingface-0.1.2-py3-none-any.whl.metadata (1.3 kB)\n",
            "Requirement already satisfied: langchain-core<1.0.0,>=0.3.37 in /usr/local/lib/python3.11/dist-packages (from langchain_community) (0.3.37)\n",
            "Requirement already satisfied: SQLAlchemy<3,>=1.4 in /usr/local/lib/python3.11/dist-packages (from langchain_community) (2.0.38)\n",
            "Requirement already satisfied: requests<3,>=2 in /usr/local/lib/python3.11/dist-packages (from langchain_community) (2.32.3)\n",
            "Requirement already satisfied: PyYAML>=5.3 in /usr/local/lib/python3.11/dist-packages (from langchain_community) (6.0.2)\n",
            "Requirement already satisfied: aiohttp<4.0.0,>=3.8.3 in /usr/local/lib/python3.11/dist-packages (from langchain_community) (3.11.12)\n",
            "Requirement already satisfied: tenacity!=8.4.0,<10,>=8.1.0 in /usr/local/lib/python3.11/dist-packages (from langchain_community) (9.0.0)\n",
            "Collecting dataclasses-json<0.7,>=0.5.7 (from langchain_community)\n",
            "  Downloading dataclasses_json-0.6.7-py3-none-any.whl.metadata (25 kB)\n",
            "Collecting pydantic-settings<3.0.0,>=2.4.0 (from langchain_community)\n",
            "  Downloading pydantic_settings-2.8.0-py3-none-any.whl.metadata (3.5 kB)\n",
            "Requirement already satisfied: langsmith<0.4,>=0.1.125 in /usr/local/lib/python3.11/dist-packages (from langchain_community) (0.3.8)\n",
            "Collecting httpx-sse<1.0.0,>=0.4.0 (from langchain_community)\n",
            "  Downloading httpx_sse-0.4.0-py3-none-any.whl.metadata (9.0 kB)\n",
            "Requirement already satisfied: numpy<2,>=1.26.4 in /usr/local/lib/python3.11/dist-packages (from langchain_community) (1.26.4)\n",
            "Collecting groq<1,>=0.4.1 (from langchain_groq)\n",
            "  Downloading groq-0.18.0-py3-none-any.whl.metadata (14 kB)\n",
            "Requirement already satisfied: packaging<25,>=23.2 in /usr/local/lib/python3.11/dist-packages (from langchainhub) (24.2)\n",
            "Collecting types-requests<3.0.0.0,>=2.31.0.2 (from langchainhub)\n",
            "  Downloading types_requests-2.32.0.20241016-py3-none-any.whl.metadata (1.9 kB)\n",
            "Requirement already satisfied: regex>=2022.1.18 in /usr/local/lib/python3.11/dist-packages (from tiktoken) (2024.11.6)\n",
            "Requirement already satisfied: langchain-text-splitters<1.0.0,>=0.3.6 in /usr/local/lib/python3.11/dist-packages (from langchain) (0.3.6)\n",
            "Requirement already satisfied: pydantic<3.0.0,>=2.7.4 in /usr/local/lib/python3.11/dist-packages (from langchain) (2.10.6)\n",
            "Requirement already satisfied: langgraph-checkpoint<3.0.0,>=2.0.10 in /usr/local/lib/python3.11/dist-packages (from langgraph) (2.0.16)\n",
            "Requirement already satisfied: langgraph-sdk<0.2.0,>=0.1.42 in /usr/local/lib/python3.11/dist-packages (from langgraph) (0.1.53)\n",
            "Requirement already satisfied: huggingface-hub>=0.23.0 in /usr/local/lib/python3.11/dist-packages (from langchain_huggingface) (0.28.1)\n",
            "Requirement already satisfied: sentence-transformers>=2.6.0 in /usr/local/lib/python3.11/dist-packages (from langchain_huggingface) (3.4.1)\n",
            "Requirement already satisfied: tokenizers>=0.19.1 in /usr/local/lib/python3.11/dist-packages (from langchain_huggingface) (0.21.0)\n",
            "Requirement already satisfied: transformers>=4.39.0 in /usr/local/lib/python3.11/dist-packages (from langchain_huggingface) (4.48.3)\n",
            "Requirement already satisfied: aiohappyeyeballs>=2.3.0 in /usr/local/lib/python3.11/dist-packages (from aiohttp<4.0.0,>=3.8.3->langchain_community) (2.4.6)\n",
            "Requirement already satisfied: aiosignal>=1.1.2 in /usr/local/lib/python3.11/dist-packages (from aiohttp<4.0.0,>=3.8.3->langchain_community) (1.3.2)\n",
            "Requirement already satisfied: attrs>=17.3.0 in /usr/local/lib/python3.11/dist-packages (from aiohttp<4.0.0,>=3.8.3->langchain_community) (25.1.0)\n",
            "Requirement already satisfied: frozenlist>=1.1.1 in /usr/local/lib/python3.11/dist-packages (from aiohttp<4.0.0,>=3.8.3->langchain_community) (1.5.0)\n",
            "Requirement already satisfied: multidict<7.0,>=4.5 in /usr/local/lib/python3.11/dist-packages (from aiohttp<4.0.0,>=3.8.3->langchain_community) (6.1.0)\n",
            "Requirement already satisfied: propcache>=0.2.0 in /usr/local/lib/python3.11/dist-packages (from aiohttp<4.0.0,>=3.8.3->langchain_community) (0.2.1)\n",
            "Requirement already satisfied: yarl<2.0,>=1.17.0 in /usr/local/lib/python3.11/dist-packages (from aiohttp<4.0.0,>=3.8.3->langchain_community) (1.18.3)\n",
            "Collecting marshmallow<4.0.0,>=3.18.0 (from dataclasses-json<0.7,>=0.5.7->langchain_community)\n",
            "  Downloading marshmallow-3.26.1-py3-none-any.whl.metadata (7.3 kB)\n",
            "Collecting typing-inspect<1,>=0.4.0 (from dataclasses-json<0.7,>=0.5.7->langchain_community)\n",
            "  Downloading typing_inspect-0.9.0-py3-none-any.whl.metadata (1.5 kB)\n",
            "Requirement already satisfied: anyio<5,>=3.5.0 in /usr/local/lib/python3.11/dist-packages (from groq<1,>=0.4.1->langchain_groq) (3.7.1)\n",
            "Requirement already satisfied: distro<2,>=1.7.0 in /usr/local/lib/python3.11/dist-packages (from groq<1,>=0.4.1->langchain_groq) (1.9.0)\n",
            "Requirement already satisfied: httpx<1,>=0.23.0 in /usr/local/lib/python3.11/dist-packages (from groq<1,>=0.4.1->langchain_groq) (0.28.1)\n",
            "Requirement already satisfied: sniffio in /usr/local/lib/python3.11/dist-packages (from groq<1,>=0.4.1->langchain_groq) (1.3.1)\n",
            "Requirement already satisfied: typing-extensions<5,>=4.10 in /usr/local/lib/python3.11/dist-packages (from groq<1,>=0.4.1->langchain_groq) (4.12.2)\n",
            "Requirement already satisfied: filelock in /usr/local/lib/python3.11/dist-packages (from huggingface-hub>=0.23.0->langchain_huggingface) (3.17.0)\n",
            "Requirement already satisfied: fsspec>=2023.5.0 in /usr/local/lib/python3.11/dist-packages (from huggingface-hub>=0.23.0->langchain_huggingface) (2024.10.0)\n",
            "Requirement already satisfied: tqdm>=4.42.1 in /usr/local/lib/python3.11/dist-packages (from huggingface-hub>=0.23.0->langchain_huggingface) (4.67.1)\n",
            "Requirement already satisfied: jsonpatch<2.0,>=1.33 in /usr/local/lib/python3.11/dist-packages (from langchain-core<1.0.0,>=0.3.37->langchain_community) (1.33)\n",
            "Requirement already satisfied: msgpack<2.0.0,>=1.1.0 in /usr/local/lib/python3.11/dist-packages (from langgraph-checkpoint<3.0.0,>=2.0.10->langgraph) (1.1.0)\n",
            "Requirement already satisfied: orjson>=3.10.1 in /usr/local/lib/python3.11/dist-packages (from langgraph-sdk<0.2.0,>=0.1.42->langgraph) (3.10.15)\n",
            "Requirement already satisfied: requests-toolbelt<2.0.0,>=1.0.0 in /usr/local/lib/python3.11/dist-packages (from langsmith<0.4,>=0.1.125->langchain_community) (1.0.0)\n",
            "Requirement already satisfied: zstandard<0.24.0,>=0.23.0 in /usr/local/lib/python3.11/dist-packages (from langsmith<0.4,>=0.1.125->langchain_community) (0.23.0)\n",
            "Requirement already satisfied: annotated-types>=0.6.0 in /usr/local/lib/python3.11/dist-packages (from pydantic<3.0.0,>=2.7.4->langchain) (0.7.0)\n",
            "Requirement already satisfied: pydantic-core==2.27.2 in /usr/local/lib/python3.11/dist-packages (from pydantic<3.0.0,>=2.7.4->langchain) (2.27.2)\n",
            "Requirement already satisfied: python-dotenv>=0.21.0 in /usr/local/lib/python3.11/dist-packages (from pydantic-settings<3.0.0,>=2.4.0->langchain_community) (1.0.1)\n",
            "Requirement already satisfied: charset-normalizer<4,>=2 in /usr/local/lib/python3.11/dist-packages (from requests<3,>=2->langchain_community) (3.4.1)\n",
            "Requirement already satisfied: idna<4,>=2.5 in /usr/local/lib/python3.11/dist-packages (from requests<3,>=2->langchain_community) (3.10)\n",
            "Requirement already satisfied: urllib3<3,>=1.21.1 in /usr/local/lib/python3.11/dist-packages (from requests<3,>=2->langchain_community) (2.3.0)\n",
            "Requirement already satisfied: certifi>=2017.4.17 in /usr/local/lib/python3.11/dist-packages (from requests<3,>=2->langchain_community) (2025.1.31)\n",
            "Requirement already satisfied: torch>=1.11.0 in /usr/local/lib/python3.11/dist-packages (from sentence-transformers>=2.6.0->langchain_huggingface) (2.5.1+cu124)\n",
            "Requirement already satisfied: scikit-learn in /usr/local/lib/python3.11/dist-packages (from sentence-transformers>=2.6.0->langchain_huggingface) (1.6.1)\n",
            "Requirement already satisfied: scipy in /usr/local/lib/python3.11/dist-packages (from sentence-transformers>=2.6.0->langchain_huggingface) (1.13.1)\n",
            "Requirement already satisfied: Pillow in /usr/local/lib/python3.11/dist-packages (from sentence-transformers>=2.6.0->langchain_huggingface) (11.1.0)\n",
            "Requirement already satisfied: greenlet!=0.4.17 in /usr/local/lib/python3.11/dist-packages (from SQLAlchemy<3,>=1.4->langchain_community) (3.1.1)\n",
            "Requirement already satisfied: safetensors>=0.4.1 in /usr/local/lib/python3.11/dist-packages (from transformers>=4.39.0->langchain_huggingface) (0.5.2)\n",
            "Requirement already satisfied: httpcore==1.* in /usr/local/lib/python3.11/dist-packages (from httpx<1,>=0.23.0->groq<1,>=0.4.1->langchain_groq) (1.0.7)\n",
            "Requirement already satisfied: h11<0.15,>=0.13 in /usr/local/lib/python3.11/dist-packages (from httpcore==1.*->httpx<1,>=0.23.0->groq<1,>=0.4.1->langchain_groq) (0.14.0)\n",
            "Requirement already satisfied: jsonpointer>=1.9 in /usr/local/lib/python3.11/dist-packages (from jsonpatch<2.0,>=1.33->langchain-core<1.0.0,>=0.3.37->langchain_community) (3.0.0)\n",
            "Requirement already satisfied: networkx in /usr/local/lib/python3.11/dist-packages (from torch>=1.11.0->sentence-transformers>=2.6.0->langchain_huggingface) (3.4.2)\n",
            "Requirement already satisfied: jinja2 in /usr/local/lib/python3.11/dist-packages (from torch>=1.11.0->sentence-transformers>=2.6.0->langchain_huggingface) (3.1.5)\n",
            "Collecting nvidia-cuda-nvrtc-cu12==12.4.127 (from torch>=1.11.0->sentence-transformers>=2.6.0->langchain_huggingface)\n",
            "  Downloading nvidia_cuda_nvrtc_cu12-12.4.127-py3-none-manylinux2014_x86_64.whl.metadata (1.5 kB)\n",
            "Collecting nvidia-cuda-runtime-cu12==12.4.127 (from torch>=1.11.0->sentence-transformers>=2.6.0->langchain_huggingface)\n",
            "  Downloading nvidia_cuda_runtime_cu12-12.4.127-py3-none-manylinux2014_x86_64.whl.metadata (1.5 kB)\n",
            "Collecting nvidia-cuda-cupti-cu12==12.4.127 (from torch>=1.11.0->sentence-transformers>=2.6.0->langchain_huggingface)\n",
            "  Downloading nvidia_cuda_cupti_cu12-12.4.127-py3-none-manylinux2014_x86_64.whl.metadata (1.6 kB)\n",
            "Collecting nvidia-cudnn-cu12==9.1.0.70 (from torch>=1.11.0->sentence-transformers>=2.6.0->langchain_huggingface)\n",
            "  Downloading nvidia_cudnn_cu12-9.1.0.70-py3-none-manylinux2014_x86_64.whl.metadata (1.6 kB)\n",
            "Collecting nvidia-cublas-cu12==12.4.5.8 (from torch>=1.11.0->sentence-transformers>=2.6.0->langchain_huggingface)\n",
            "  Downloading nvidia_cublas_cu12-12.4.5.8-py3-none-manylinux2014_x86_64.whl.metadata (1.5 kB)\n",
            "Collecting nvidia-cufft-cu12==11.2.1.3 (from torch>=1.11.0->sentence-transformers>=2.6.0->langchain_huggingface)\n",
            "  Downloading nvidia_cufft_cu12-11.2.1.3-py3-none-manylinux2014_x86_64.whl.metadata (1.5 kB)\n",
            "Collecting nvidia-curand-cu12==10.3.5.147 (from torch>=1.11.0->sentence-transformers>=2.6.0->langchain_huggingface)\n",
            "  Downloading nvidia_curand_cu12-10.3.5.147-py3-none-manylinux2014_x86_64.whl.metadata (1.5 kB)\n",
            "Collecting nvidia-cusolver-cu12==11.6.1.9 (from torch>=1.11.0->sentence-transformers>=2.6.0->langchain_huggingface)\n",
            "  Downloading nvidia_cusolver_cu12-11.6.1.9-py3-none-manylinux2014_x86_64.whl.metadata (1.6 kB)\n",
            "Collecting nvidia-cusparse-cu12==12.3.1.170 (from torch>=1.11.0->sentence-transformers>=2.6.0->langchain_huggingface)\n",
            "  Downloading nvidia_cusparse_cu12-12.3.1.170-py3-none-manylinux2014_x86_64.whl.metadata (1.6 kB)\n",
            "Requirement already satisfied: nvidia-nccl-cu12==2.21.5 in /usr/local/lib/python3.11/dist-packages (from torch>=1.11.0->sentence-transformers>=2.6.0->langchain_huggingface) (2.21.5)\n",
            "Requirement already satisfied: nvidia-nvtx-cu12==12.4.127 in /usr/local/lib/python3.11/dist-packages (from torch>=1.11.0->sentence-transformers>=2.6.0->langchain_huggingface) (12.4.127)\n",
            "Collecting nvidia-nvjitlink-cu12==12.4.127 (from torch>=1.11.0->sentence-transformers>=2.6.0->langchain_huggingface)\n",
            "  Downloading nvidia_nvjitlink_cu12-12.4.127-py3-none-manylinux2014_x86_64.whl.metadata (1.5 kB)\n",
            "Requirement already satisfied: triton==3.1.0 in /usr/local/lib/python3.11/dist-packages (from torch>=1.11.0->sentence-transformers>=2.6.0->langchain_huggingface) (3.1.0)\n",
            "Requirement already satisfied: sympy==1.13.1 in /usr/local/lib/python3.11/dist-packages (from torch>=1.11.0->sentence-transformers>=2.6.0->langchain_huggingface) (1.13.1)\n",
            "Requirement already satisfied: mpmath<1.4,>=1.1.0 in /usr/local/lib/python3.11/dist-packages (from sympy==1.13.1->torch>=1.11.0->sentence-transformers>=2.6.0->langchain_huggingface) (1.3.0)\n",
            "Collecting mypy-extensions>=0.3.0 (from typing-inspect<1,>=0.4.0->dataclasses-json<0.7,>=0.5.7->langchain_community)\n",
            "  Downloading mypy_extensions-1.0.0-py3-none-any.whl.metadata (1.1 kB)\n",
            "Requirement already satisfied: joblib>=1.2.0 in /usr/local/lib/python3.11/dist-packages (from scikit-learn->sentence-transformers>=2.6.0->langchain_huggingface) (1.4.2)\n",
            "Requirement already satisfied: threadpoolctl>=3.1.0 in /usr/local/lib/python3.11/dist-packages (from scikit-learn->sentence-transformers>=2.6.0->langchain_huggingface) (3.5.0)\n",
            "Requirement already satisfied: MarkupSafe>=2.0 in /usr/local/lib/python3.11/dist-packages (from jinja2->torch>=1.11.0->sentence-transformers>=2.6.0->langchain_huggingface) (3.0.2)\n",
            "Downloading langchain_community-0.3.18-py3-none-any.whl (2.5 MB)\n",
            "\u001b[2K   \u001b[90m━━━━━━━━━━━━━━━━━━━━━━━━━━━━━━━━━━━━━━━━\u001b[0m \u001b[32m2.5/2.5 MB\u001b[0m \u001b[31m44.4 MB/s\u001b[0m eta \u001b[36m0:00:00\u001b[0m\n",
            "\u001b[?25hDownloading langchain_groq-0.2.4-py3-none-any.whl (14 kB)\n",
            "Downloading langchainhub-0.1.21-py3-none-any.whl (5.2 kB)\n",
            "Downloading tiktoken-0.9.0-cp311-cp311-manylinux_2_17_x86_64.manylinux2014_x86_64.whl (1.2 MB)\n",
            "\u001b[2K   \u001b[90m━━━━━━━━━━━━━━━━━━━━━━━━━━━━━━━━━━━━━━━━\u001b[0m \u001b[32m1.2/1.2 MB\u001b[0m \u001b[31m73.7 MB/s\u001b[0m eta \u001b[36m0:00:00\u001b[0m\n",
            "\u001b[?25hDownloading langchain_huggingface-0.1.2-py3-none-any.whl (21 kB)\n",
            "Downloading dataclasses_json-0.6.7-py3-none-any.whl (28 kB)\n",
            "Downloading groq-0.18.0-py3-none-any.whl (121 kB)\n",
            "\u001b[2K   \u001b[90m━━━━━━━━━━━━━━━━━━━━━━━━━━━━━━━━━━━━━━━━\u001b[0m \u001b[32m121.9/121.9 kB\u001b[0m \u001b[31m12.9 MB/s\u001b[0m eta \u001b[36m0:00:00\u001b[0m\n",
            "\u001b[?25hDownloading httpx_sse-0.4.0-py3-none-any.whl (7.8 kB)\n",
            "Downloading pydantic_settings-2.8.0-py3-none-any.whl (30 kB)\n",
            "Downloading types_requests-2.32.0.20241016-py3-none-any.whl (15 kB)\n",
            "Downloading marshmallow-3.26.1-py3-none-any.whl (50 kB)\n",
            "\u001b[2K   \u001b[90m━━━━━━━━━━━━━━━━━━━━━━━━━━━━━━━━━━━━━━━━\u001b[0m \u001b[32m50.9/50.9 kB\u001b[0m \u001b[31m5.4 MB/s\u001b[0m eta \u001b[36m0:00:00\u001b[0m\n",
            "\u001b[?25hDownloading nvidia_cublas_cu12-12.4.5.8-py3-none-manylinux2014_x86_64.whl (363.4 MB)\n",
            "\u001b[2K   \u001b[90m━━━━━━━━━━━━━━━━━━━━━━━━━━━━━━━━━━━━━━━━\u001b[0m \u001b[32m363.4/363.4 MB\u001b[0m \u001b[31m4.4 MB/s\u001b[0m eta \u001b[36m0:00:00\u001b[0m\n",
            "\u001b[?25hDownloading nvidia_cuda_cupti_cu12-12.4.127-py3-none-manylinux2014_x86_64.whl (13.8 MB)\n",
            "\u001b[2K   \u001b[90m━━━━━━━━━━━━━━━━━━━━━━━━━━━━━━━━━━━━━━━━\u001b[0m \u001b[32m13.8/13.8 MB\u001b[0m \u001b[31m27.5 MB/s\u001b[0m eta \u001b[36m0:00:00\u001b[0m\n",
            "\u001b[?25hDownloading nvidia_cuda_nvrtc_cu12-12.4.127-py3-none-manylinux2014_x86_64.whl (24.6 MB)\n",
            "\u001b[2K   \u001b[90m━━━━━━━━━━━━━━━━━━━━━━━━━━━━━━━━━━━━━━━━\u001b[0m \u001b[32m24.6/24.6 MB\u001b[0m \u001b[31m36.3 MB/s\u001b[0m eta \u001b[36m0:00:00\u001b[0m\n",
            "\u001b[?25hDownloading nvidia_cuda_runtime_cu12-12.4.127-py3-none-manylinux2014_x86_64.whl (883 kB)\n",
            "\u001b[2K   \u001b[90m━━━━━━━━━━━━━━━━━━━━━━━━━━━━━━━━━━━━━━━━\u001b[0m \u001b[32m883.7/883.7 kB\u001b[0m \u001b[31m46.9 MB/s\u001b[0m eta \u001b[36m0:00:00\u001b[0m\n",
            "\u001b[?25hDownloading nvidia_cudnn_cu12-9.1.0.70-py3-none-manylinux2014_x86_64.whl (664.8 MB)\n",
            "\u001b[2K   \u001b[90m━━━━━━━━━━━━━━━━━━━━━━━━━━━━━━━━━━━━━━━━\u001b[0m \u001b[32m664.8/664.8 MB\u001b[0m \u001b[31m2.1 MB/s\u001b[0m eta \u001b[36m0:00:00\u001b[0m\n",
            "\u001b[?25hDownloading nvidia_cufft_cu12-11.2.1.3-py3-none-manylinux2014_x86_64.whl (211.5 MB)\n",
            "\u001b[2K   \u001b[90m━━━━━━━━━━━━━━━━━━━━━━━━━━━━━━━━━━━━━━━━\u001b[0m \u001b[32m211.5/211.5 MB\u001b[0m \u001b[31m5.8 MB/s\u001b[0m eta \u001b[36m0:00:00\u001b[0m\n",
            "\u001b[?25hDownloading nvidia_curand_cu12-10.3.5.147-py3-none-manylinux2014_x86_64.whl (56.3 MB)\n",
            "\u001b[2K   \u001b[90m━━━━━━━━━━━━━━━━━━━━━━━━━━━━━━━━━━━━━━━━\u001b[0m \u001b[32m56.3/56.3 MB\u001b[0m \u001b[31m11.4 MB/s\u001b[0m eta \u001b[36m0:00:00\u001b[0m\n",
            "\u001b[?25hDownloading nvidia_cusolver_cu12-11.6.1.9-py3-none-manylinux2014_x86_64.whl (127.9 MB)\n",
            "\u001b[2K   \u001b[90m━━━━━━━━━━━━━━━━━━━━━━━━━━━━━━━━━━━━━━━━\u001b[0m \u001b[32m127.9/127.9 MB\u001b[0m \u001b[31m7.3 MB/s\u001b[0m eta \u001b[36m0:00:00\u001b[0m\n",
            "\u001b[?25hDownloading nvidia_cusparse_cu12-12.3.1.170-py3-none-manylinux2014_x86_64.whl (207.5 MB)\n",
            "\u001b[2K   \u001b[90m━━━━━━━━━━━━━━━━━━━━━━━━━━━━━━━━━━━━━━━━\u001b[0m \u001b[32m207.5/207.5 MB\u001b[0m \u001b[31m5.2 MB/s\u001b[0m eta \u001b[36m0:00:00\u001b[0m\n",
            "\u001b[?25hDownloading nvidia_nvjitlink_cu12-12.4.127-py3-none-manylinux2014_x86_64.whl (21.1 MB)\n",
            "\u001b[2K   \u001b[90m━━━━━━━━━━━━━━━━━━━━━━━━━━━━━━━━━━━━━━━━\u001b[0m \u001b[32m21.1/21.1 MB\u001b[0m \u001b[31m57.3 MB/s\u001b[0m eta \u001b[36m0:00:00\u001b[0m\n",
            "\u001b[?25hDownloading typing_inspect-0.9.0-py3-none-any.whl (8.8 kB)\n",
            "Downloading mypy_extensions-1.0.0-py3-none-any.whl (4.7 kB)\n",
            "Installing collected packages: types-requests, nvidia-nvjitlink-cu12, nvidia-curand-cu12, nvidia-cufft-cu12, nvidia-cuda-runtime-cu12, nvidia-cuda-nvrtc-cu12, nvidia-cuda-cupti-cu12, nvidia-cublas-cu12, mypy-extensions, marshmallow, httpx-sse, typing-inspect, tiktoken, nvidia-cusparse-cu12, nvidia-cudnn-cu12, langchainhub, pydantic-settings, nvidia-cusolver-cu12, groq, dataclasses-json, langchain_groq, langchain_huggingface, langchain_community\n",
            "  Attempting uninstall: nvidia-nvjitlink-cu12\n",
            "    Found existing installation: nvidia-nvjitlink-cu12 12.5.82\n",
            "    Uninstalling nvidia-nvjitlink-cu12-12.5.82:\n",
            "      Successfully uninstalled nvidia-nvjitlink-cu12-12.5.82\n",
            "  Attempting uninstall: nvidia-curand-cu12\n",
            "    Found existing installation: nvidia-curand-cu12 10.3.6.82\n",
            "    Uninstalling nvidia-curand-cu12-10.3.6.82:\n",
            "      Successfully uninstalled nvidia-curand-cu12-10.3.6.82\n",
            "  Attempting uninstall: nvidia-cufft-cu12\n",
            "    Found existing installation: nvidia-cufft-cu12 11.2.3.61\n",
            "    Uninstalling nvidia-cufft-cu12-11.2.3.61:\n",
            "      Successfully uninstalled nvidia-cufft-cu12-11.2.3.61\n",
            "  Attempting uninstall: nvidia-cuda-runtime-cu12\n",
            "    Found existing installation: nvidia-cuda-runtime-cu12 12.5.82\n",
            "    Uninstalling nvidia-cuda-runtime-cu12-12.5.82:\n",
            "      Successfully uninstalled nvidia-cuda-runtime-cu12-12.5.82\n",
            "  Attempting uninstall: nvidia-cuda-nvrtc-cu12\n",
            "    Found existing installation: nvidia-cuda-nvrtc-cu12 12.5.82\n",
            "    Uninstalling nvidia-cuda-nvrtc-cu12-12.5.82:\n",
            "      Successfully uninstalled nvidia-cuda-nvrtc-cu12-12.5.82\n",
            "  Attempting uninstall: nvidia-cuda-cupti-cu12\n",
            "    Found existing installation: nvidia-cuda-cupti-cu12 12.5.82\n",
            "    Uninstalling nvidia-cuda-cupti-cu12-12.5.82:\n",
            "      Successfully uninstalled nvidia-cuda-cupti-cu12-12.5.82\n",
            "  Attempting uninstall: nvidia-cublas-cu12\n",
            "    Found existing installation: nvidia-cublas-cu12 12.5.3.2\n",
            "    Uninstalling nvidia-cublas-cu12-12.5.3.2:\n",
            "      Successfully uninstalled nvidia-cublas-cu12-12.5.3.2\n",
            "  Attempting uninstall: nvidia-cusparse-cu12\n",
            "    Found existing installation: nvidia-cusparse-cu12 12.5.1.3\n",
            "    Uninstalling nvidia-cusparse-cu12-12.5.1.3:\n",
            "      Successfully uninstalled nvidia-cusparse-cu12-12.5.1.3\n",
            "  Attempting uninstall: nvidia-cudnn-cu12\n",
            "    Found existing installation: nvidia-cudnn-cu12 9.3.0.75\n",
            "    Uninstalling nvidia-cudnn-cu12-9.3.0.75:\n",
            "      Successfully uninstalled nvidia-cudnn-cu12-9.3.0.75\n",
            "  Attempting uninstall: nvidia-cusolver-cu12\n",
            "    Found existing installation: nvidia-cusolver-cu12 11.6.3.83\n",
            "    Uninstalling nvidia-cusolver-cu12-11.6.3.83:\n",
            "      Successfully uninstalled nvidia-cusolver-cu12-11.6.3.83\n",
            "Successfully installed dataclasses-json-0.6.7 groq-0.18.0 httpx-sse-0.4.0 langchain_community-0.3.18 langchain_groq-0.2.4 langchain_huggingface-0.1.2 langchainhub-0.1.21 marshmallow-3.26.1 mypy-extensions-1.0.0 nvidia-cublas-cu12-12.4.5.8 nvidia-cuda-cupti-cu12-12.4.127 nvidia-cuda-nvrtc-cu12-12.4.127 nvidia-cuda-runtime-cu12-12.4.127 nvidia-cudnn-cu12-9.1.0.70 nvidia-cufft-cu12-11.2.1.3 nvidia-curand-cu12-10.3.5.147 nvidia-cusolver-cu12-11.6.1.9 nvidia-cusparse-cu12-12.3.1.170 nvidia-nvjitlink-cu12-12.4.127 pydantic-settings-2.8.0 tiktoken-0.9.0 types-requests-2.32.0.20241016 typing-inspect-0.9.0\n"
          ]
        }
      ],
      "source": [
        "!pip install -U langchain_community langchain_groq langchainhub tiktoken langchain langgraph langchain_huggingface"
      ]
    },
    {
      "cell_type": "markdown",
      "metadata": {
        "id": "HBIGGCx_Zy-D"
      },
      "source": [
        "![Screenshot (49).png](data:image/png;base64,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)"
      ]
    },
    {
      "cell_type": "code",
      "execution_count": null,
      "metadata": {
        "id": "AciUpmTtWIO_"
      },
      "outputs": [],
      "source": [
        "##build index\n",
        "\n",
        "from langchain.text_splitter import RecursiveCharacterTextSplitter\n",
        "from langchain_community.document_loaders import WebBaseLoader\n",
        "\n",
        "#Docs to index\n",
        "urls = [\n",
        "     \"https://lilianweng.github.io/posts/2023-06-23-agent/\",\n",
        "    \"https://lilianweng.github.io/posts/2023-03-15-prompt-engineering/\",\n",
        "    \"https://lilianweng.github.io/posts/2023-10-25-adv-attack-llm/\",\n",
        "]\n",
        "\n",
        "#load the urls\n",
        "docs = [WebBaseLoader(url).load() for url in urls ]   # --> here, docs becomes a list of lists\n",
        "doc_list = [item for sublist in docs for item in sublist]   # --> here, it flattens docs into a single list\n",
        "text_splitter = RecursiveCharacterTextSplitter.from_tiktoken_encoder(chunk_size=500, chunk_overlap =0)\n",
        "docs_split = text_splitter.split_documents(doc_list)\n",
        "\n",
        "# .from_tiktoken_encoder() is used to ensure that the text splitting is based on token count instead of character count."
      ]
    },
    {
      "cell_type": "markdown",
      "metadata": {
        "id": "LuHCbmRvcbo0"
      },
      "source": [
        "what this does --> doc_list = [item for sublist in docs for item in sublist]\n",
        "\n",
        "![Screenshot (50).png](data:image/png;base64,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)"
      ]
    },
    {
      "cell_type": "code",
      "execution_count": null,
      "metadata": {
        "colab": {
          "base_uri": "https://localhost:8080/"
        },
        "id": "afkxJTsFf1V2",
        "outputId": "c67209ee-5b5c-4969-bfe7-a0825f11fa52"
      },
      "outputs": [
        {
          "name": "stdout",
          "output_type": "stream",
          "text": [
            "Requirement already satisfied: python-dotenv in /usr/local/lib/python3.11/dist-packages (1.0.1)\n"
          ]
        }
      ],
      "source": [
        "!pip install python-dotenv"
      ]
    },
    {
      "cell_type": "code",
      "execution_count": null,
      "metadata": {
        "id": "TLsFJFUIcqHT"
      },
      "outputs": [],
      "source": [
        "from langchain_huggingface import HuggingFaceEmbeddings\n",
        "from dotenv import load_dotenv\n",
        "import os\n",
        "\n",
        "load_dotenv()\n",
        "HUGGINGFACE_API_KEY = os.getenv(\"HUGGINGFACE_API_KEY\")\n",
        "embeddings = HuggingFaceEmbeddings(model_name=\"all-MiniLM-L6-v2\")\n"
      ]
    },
    {
      "cell_type": "code",
      "execution_count": null,
      "metadata": {
        "id": "JTMSR3dchCBV"
      },
      "outputs": [],
      "source": [
        "from langchain.vectorstores.cassandra import Cassandra\n",
        "astra_vector_store = Cassandra(embedding=embeddings,\n",
        "                               table_name=\"qa_mini_demo\",\n",
        "                               session=None,\n",
        "                               keyspace=None\n",
        "                               )\n",
        "\n"
      ]
    },
    {
      "cell_type": "code",
      "execution_count": null,
      "metadata": {
        "colab": {
          "base_uri": "https://localhost:8080/"
        },
        "id": "9hHtZbLthe7l",
        "outputId": "4fecd750-eb47-47a3-c5bf-3f0b5f1f62e2"
      },
      "outputs": [
        {
          "name": "stdout",
          "output_type": "stream",
          "text": [
            "Inserted 88 headlines.\n"
          ]
        }
      ],
      "source": [
        "#need to store data into the created table\n",
        "#stores documents in Astra DB (as a vector database) and wraps it inside a LangChain-compatible index for easy retrieval.\n",
        "\n",
        "from langchain.indexes.vectorstore import VectorStoreIndexWrapper\n",
        "astra_vector_store.add_documents(docs_split)\n",
        "print(\"Inserted %i headlines.\"% len(docs_split))\n",
        "\n",
        "astra_vector_index = VectorStoreIndexWrapper(vectorstore=astra_vector_store)\n"
      ]
    },
    {
      "cell_type": "code",
      "execution_count": null,
      "metadata": {
        "colab": {
          "base_uri": "https://localhost:8080/"
        },
        "id": "2JlFBkbyiZFG",
        "outputId": "4e37b583-7b10-4517-d405-4cb308f519ba"
      },
      "outputs": [
        {
          "name": "stderr",
          "output_type": "stream",
          "text": [
            "WARNING:cassandra.protocol:Server warning: Top-K queries can only be run with consistency level ONE / LOCAL_ONE / NODE_LOCAL. Consistency level LOCAL_QUORUM was requested. Downgrading the consistency level to LOCAL_ONE.\n"
          ]
        },
        {
          "data": {
            "text/plain": [
              "[Document(id='55006c595e75424c85e74110628d3c52', metadata={'description': 'Building agents with LLM (large language model) as its core controller is a cool concept. Several proof-of-concepts demos, such as AutoGPT, GPT-Engineer and BabyAGI, serve as inspiring examples. The potentiality of LLM extends beyond generating well-written copies, stories, essays and programs; it can be framed as a powerful general problem solver.\\nAgent System Overview\\nIn a LLM-powered autonomous agent system, LLM functions as the agent’s brain, complemented by several key components:\\n\\nPlanning\\n\\nSubgoal and decomposition: The agent breaks down large tasks into smaller, manageable subgoals, enabling efficient handling of complex tasks.\\nReflection and refinement: The agent can do self-criticism and self-reflection over past actions, learn from mistakes and refine them for future steps, thereby improving the quality of final results.\\n\\n\\nMemory\\n\\nShort-term memory: I would consider all the in-context learning (See Prompt Engineering) as utilizing short-term memory of the model to learn.\\nLong-term memory: This provides the agent with the capability to retain and recall (infinite) information over extended periods, often by leveraging an external vector store and fast retrieval.\\n\\n\\nTool use\\n\\nThe agent learns to call external APIs for extra information that is missing from the model weights (often hard to change after pre-training), including current information, code execution capability, access to proprietary information sources and more.\\n\\n\\n\\n\\nFig. 1. Overview of a LLM-powered autonomous agent system.\\nComponent One: Planning\\nA complicated task usually involves many steps. An agent needs to know what they are and plan ahead.', 'language': 'en', 'source': 'https://lilianweng.github.io/posts/2023-06-23-agent/', 'title': \"LLM Powered Autonomous Agents | Lil'Log\"}, page_content='Planning is essentially in order to optimize believability at the moment vs in time.\\nPrompt template: {Intro of an agent X}. Here is X\\'s plan today in broad strokes: 1)\\nRelationships between agents and observations of one agent by another are all taken into consideration for planning and reacting.\\nEnvironment information is present in a tree structure.\\n\\n\\n\\n\\nFig. 13. The generative agent architecture. (Image source: Park et al. 2023)\\nThis fun simulation results in emergent social behavior, such as information diffusion, relationship memory (e.g. two agents continuing the conversation topic) and coordination of social events (e.g. host a party and invite many others).\\nProof-of-Concept Examples#\\nAutoGPT has drawn a lot of attention into the possibility of setting up autonomous agents with LLM as the main controller. It has quite a lot of reliability issues given the natural language interface, but nevertheless a cool proof-of-concept demo. A lot of code in AutoGPT is about format parsing.\\nHere is the system message used by AutoGPT, where {{...}} are user inputs:\\nYou are {{ai-name}}, {{user-provided AI bot description}}.\\nYour decisions must always be made independently without seeking user assistance. Play to your strengths as an LLM and pursue simple strategies with no legal complications.\\n\\nGOALS:\\n\\n1. {{user-provided goal 1}}\\n2. {{user-provided goal 2}}\\n3. ...\\n4. ...\\n5. ...\\n\\nConstraints:\\n1. ~4000 word limit for short term memory. Your short term memory is short, so immediately save important information to files.\\n2. If you are unsure how you previously did something or want to recall past events, thinking about similar events will help you remember.\\n3. No user assistance\\n4. Exclusively use the commands listed in double quotes e.g. \"command name\"\\n5. Use subprocesses for commands that will not terminate within a few minutes'),\n",
              " Document(id='0fe309252cb74904b66893871239e820', metadata={'description': 'Building agents with LLM (large language model) as its core controller is a cool concept. Several proof-of-concepts demos, such as AutoGPT, GPT-Engineer and BabyAGI, serve as inspiring examples. The potentiality of LLM extends beyond generating well-written copies, stories, essays and programs; it can be framed as a powerful general problem solver.\\nAgent System Overview\\nIn a LLM-powered autonomous agent system, LLM functions as the agent’s brain, complemented by several key components:\\n\\nPlanning\\n\\nSubgoal and decomposition: The agent breaks down large tasks into smaller, manageable subgoals, enabling efficient handling of complex tasks.\\nReflection and refinement: The agent can do self-criticism and self-reflection over past actions, learn from mistakes and refine them for future steps, thereby improving the quality of final results.\\n\\n\\nMemory\\n\\nShort-term memory: I would consider all the in-context learning (See Prompt Engineering) as utilizing short-term memory of the model to learn.\\nLong-term memory: This provides the agent with the capability to retain and recall (infinite) information over extended periods, often by leveraging an external vector store and fast retrieval.\\n\\n\\nTool use\\n\\nThe agent learns to call external APIs for extra information that is missing from the model weights (often hard to change after pre-training), including current information, code execution capability, access to proprietary information sources and more.\\n\\n\\n\\n\\nFig. 1. Overview of a LLM-powered autonomous agent system.\\nComponent One: Planning\\nA complicated task usually involves many steps. An agent needs to know what they are and plan ahead.', 'language': 'en', 'source': 'https://lilianweng.github.io/posts/2023-06-23-agent/', 'title': \"LLM Powered Autonomous Agents | Lil'Log\"}, page_content='Planning is essentially in order to optimize believability at the moment vs in time.\\nPrompt template: {Intro of an agent X}. Here is X\\'s plan today in broad strokes: 1)\\nRelationships between agents and observations of one agent by another are all taken into consideration for planning and reacting.\\nEnvironment information is present in a tree structure.\\n\\n\\n\\n\\nFig. 13. The generative agent architecture. (Image source: Park et al. 2023)\\nThis fun simulation results in emergent social behavior, such as information diffusion, relationship memory (e.g. two agents continuing the conversation topic) and coordination of social events (e.g. host a party and invite many others).\\nProof-of-Concept Examples#\\nAutoGPT has drawn a lot of attention into the possibility of setting up autonomous agents with LLM as the main controller. It has quite a lot of reliability issues given the natural language interface, but nevertheless a cool proof-of-concept demo. A lot of code in AutoGPT is about format parsing.\\nHere is the system message used by AutoGPT, where {{...}} are user inputs:\\nYou are {{ai-name}}, {{user-provided AI bot description}}.\\nYour decisions must always be made independently without seeking user assistance. Play to your strengths as an LLM and pursue simple strategies with no legal complications.\\n\\nGOALS:\\n\\n1. {{user-provided goal 1}}\\n2. {{user-provided goal 2}}\\n3. ...\\n4. ...\\n5. ...\\n\\nConstraints:\\n1. ~4000 word limit for short term memory. Your short term memory is short, so immediately save important information to files.\\n2. If you are unsure how you previously did something or want to recall past events, thinking about similar events will help you remember.\\n3. No user assistance\\n4. Exclusively use the commands listed in double quotes e.g. \"command name\"\\n5. Use subprocesses for commands that will not terminate within a few minutes'),\n",
              " Document(id='0dabe561f5204b22bb5e65849fb8a022', metadata={'description': 'Building agents with LLM (large language model) as its core controller is a cool concept. Several proof-of-concepts demos, such as AutoGPT, GPT-Engineer and BabyAGI, serve as inspiring examples. The potentiality of LLM extends beyond generating well-written copies, stories, essays and programs; it can be framed as a powerful general problem solver.\\nAgent System Overview\\nIn a LLM-powered autonomous agent system, LLM functions as the agent’s brain, complemented by several key components:\\n\\nPlanning\\n\\nSubgoal and decomposition: The agent breaks down large tasks into smaller, manageable subgoals, enabling efficient handling of complex tasks.\\nReflection and refinement: The agent can do self-criticism and self-reflection over past actions, learn from mistakes and refine them for future steps, thereby improving the quality of final results.\\n\\n\\nMemory\\n\\nShort-term memory: I would consider all the in-context learning (See Prompt Engineering) as utilizing short-term memory of the model to learn.\\nLong-term memory: This provides the agent with the capability to retain and recall (infinite) information over extended periods, often by leveraging an external vector store and fast retrieval.\\n\\n\\nTool use\\n\\nThe agent learns to call external APIs for extra information that is missing from the model weights (often hard to change after pre-training), including current information, code execution capability, access to proprietary information sources and more.\\n\\n\\n\\n\\nFig. 1. Overview of a LLM-powered autonomous agent system.\\nComponent One: Planning\\nA complicated task usually involves many steps. An agent needs to know what they are and plan ahead.', 'language': 'en', 'source': 'https://lilianweng.github.io/posts/2023-06-23-agent/', 'title': \"LLM Powered Autonomous Agents | Lil'Log\"}, page_content='Planning is essentially in order to optimize believability at the moment vs in time.\\nPrompt template: {Intro of an agent X}. Here is X\\'s plan today in broad strokes: 1)\\nRelationships between agents and observations of one agent by another are all taken into consideration for planning and reacting.\\nEnvironment information is present in a tree structure.\\n\\n\\n\\n\\nFig. 13. The generative agent architecture. (Image source: Park et al. 2023)\\nThis fun simulation results in emergent social behavior, such as information diffusion, relationship memory (e.g. two agents continuing the conversation topic) and coordination of social events (e.g. host a party and invite many others).\\nProof-of-Concept Examples#\\nAutoGPT has drawn a lot of attention into the possibility of setting up autonomous agents with LLM as the main controller. It has quite a lot of reliability issues given the natural language interface, but nevertheless a cool proof-of-concept demo. A lot of code in AutoGPT is about format parsing.\\nHere is the system message used by AutoGPT, where {{...}} are user inputs:\\nYou are {{ai-name}}, {{user-provided AI bot description}}.\\nYour decisions must always be made independently without seeking user assistance. Play to your strengths as an LLM and pursue simple strategies with no legal complications.\\n\\nGOALS:\\n\\n1. {{user-provided goal 1}}\\n2. {{user-provided goal 2}}\\n3. ...\\n4. ...\\n5. ...\\n\\nConstraints:\\n1. ~4000 word limit for short term memory. Your short term memory is short, so immediately save important information to files.\\n2. If you are unsure how you previously did something or want to recall past events, thinking about similar events will help you remember.\\n3. No user assistance\\n4. Exclusively use the commands listed in double quotes e.g. \"command name\"\\n5. Use subprocesses for commands that will not terminate within a few minutes'),\n",
              " Document(id='810bdc5caad84af3af311b658f3bb4e6', metadata={'description': 'Building agents with LLM (large language model) as its core controller is a cool concept. Several proof-of-concepts demos, such as AutoGPT, GPT-Engineer and BabyAGI, serve as inspiring examples. The potentiality of LLM extends beyond generating well-written copies, stories, essays and programs; it can be framed as a powerful general problem solver.\\nAgent System Overview\\nIn a LLM-powered autonomous agent system, LLM functions as the agent’s brain, complemented by several key components:\\n\\nPlanning\\n\\nSubgoal and decomposition: The agent breaks down large tasks into smaller, manageable subgoals, enabling efficient handling of complex tasks.\\nReflection and refinement: The agent can do self-criticism and self-reflection over past actions, learn from mistakes and refine them for future steps, thereby improving the quality of final results.\\n\\n\\nMemory\\n\\nShort-term memory: I would consider all the in-context learning (See Prompt Engineering) as utilizing short-term memory of the model to learn.\\nLong-term memory: This provides the agent with the capability to retain and recall (infinite) information over extended periods, often by leveraging an external vector store and fast retrieval.\\n\\n\\nTool use\\n\\nThe agent learns to call external APIs for extra information that is missing from the model weights (often hard to change after pre-training), including current information, code execution capability, access to proprietary information sources and more.\\n\\n\\n\\n\\nFig. 1. Overview of a LLM-powered autonomous agent system.\\nComponent One: Planning\\nA complicated task usually involves many steps. An agent needs to know what they are and plan ahead.', 'language': 'en', 'source': 'https://lilianweng.github.io/posts/2023-06-23-agent/', 'title': \"LLM Powered Autonomous Agents | Lil'Log\"}, page_content='Planning is essentially in order to optimize believability at the moment vs in time.\\nPrompt template: {Intro of an agent X}. Here is X\\'s plan today in broad strokes: 1)\\nRelationships between agents and observations of one agent by another are all taken into consideration for planning and reacting.\\nEnvironment information is present in a tree structure.\\n\\n\\n\\n\\nFig. 13. The generative agent architecture. (Image source: Park et al. 2023)\\nThis fun simulation results in emergent social behavior, such as information diffusion, relationship memory (e.g. two agents continuing the conversation topic) and coordination of social events (e.g. host a party and invite many others).\\nProof-of-Concept Examples#\\nAutoGPT has drawn a lot of attention into the possibility of setting up autonomous agents with LLM as the main controller. It has quite a lot of reliability issues given the natural language interface, but nevertheless a cool proof-of-concept demo. A lot of code in AutoGPT is about format parsing.\\nHere is the system message used by AutoGPT, where {{...}} are user inputs:\\nYou are {{ai-name}}, {{user-provided AI bot description}}.\\nYour decisions must always be made independently without seeking user assistance. Play to your strengths as an LLM and pursue simple strategies with no legal complications.\\n\\nGOALS:\\n\\n1. {{user-provided goal 1}}\\n2. {{user-provided goal 2}}\\n3. ...\\n4. ...\\n5. ...\\n\\nConstraints:\\n1. ~4000 word limit for short term memory. Your short term memory is short, so immediately save important information to files.\\n2. If you are unsure how you previously did something or want to recall past events, thinking about similar events will help you remember.\\n3. No user assistance\\n4. Exclusively use the commands listed in double quotes e.g. \"command name\"\\n5. Use subprocesses for commands that will not terminate within a few minutes')]"
            ]
          },
          "execution_count": 47,
          "metadata": {},
          "output_type": "execute_result"
        }
      ],
      "source": [
        "#converts the Astra DB vector store into a LangChain-compatible retriever\n",
        "retriever =  astra_vector_store.as_retriever()\n",
        "retriever.invoke(\"What is an agent?\")"
      ]
    },
    {
      "cell_type": "markdown",
      "metadata": {
        "id": "8NQn9PFWixio"
      },
      "source": [
        "ASTRA DB CONFIGURATION AND ITS INTEGRATION WITH CREATION OF EMBEDDINGS FOR THE RESPECTIVE DOCS IS COMPLETED HERE.\n"
      ]
    },
    {
      "cell_type": "code",
      "execution_count": null,
      "metadata": {
        "id": "2bo7V8ZuiqQd"
      },
      "outputs": [],
      "source": [
        "#Langgraph application\n",
        "\n",
        "from langchain_core.prompts import ChatPromptTemplate\n",
        "from langchain_core.pydantic_v1 import BaseModel, Field\n",
        "from typing import Literal\n"
      ]
    },
    {
      "cell_type": "code",
      "execution_count": null,
      "metadata": {
        "id": "-yjylod-kjml"
      },
      "outputs": [],
      "source": [
        "#To route a user query to appropriate data source --> either a vector database (like Astra DB) or Wikipedia search—based on the nature of the query.\n",
        "\n",
        "class RouteQuery(BaseModel):\n",
        "  \"\"\"Route a user query to the most relevant data source\"\"\"\n",
        "\n",
        "  datasource: Literal[\"vectorstore\",\"wiki_search\"] = Field(                       #restricts datasource to these 2 choices\n",
        "      ...,\n",
        "      description=\"Given a user question choose to route it to wikipedia or a vectorstore \"\n",
        "  )"
      ]
    },
    {
      "cell_type": "code",
      "execution_count": null,
      "metadata": {
        "id": "-3Wycnn5rxQ5"
      },
      "outputs": [],
      "source": [
        "from langchain_groq import ChatGroq\n",
        "GROQ_API_KEY = os.getenv(\"GROQ_API_KEY\")\n",
        "\n",
        "llm = ChatGroq(groq_api_key=GROQ_API_KEY, model_name=\"gemma2-9b-it\")\n",
        "\n",
        "#now have to integrate route query with our llm model\n",
        "structured_llm_router = llm.with_structured_output(RouteQuery)\n",
        "\n",
        "#Prompt\n",
        "system = \"\"\"You are an expert at routing a user question to a vectorstore or wikipedia.\n",
        "the vectorstore contains documents related to agents, prompt engineering, and adversarial attacks.\n",
        "Use the vectorstore for questions on these topics and topics related to it. Otherwise, use wiki search.\"\"\"\n",
        "route_prompt = ChatPromptTemplate.from_messages(\n",
        "    [\n",
        "    (\"system\",system),\n",
        "    (\"human\",\"{question}\")\n",
        "    ]\n",
        ")\n",
        "\n",
        "question_router = route_prompt | structured_llm_router"
      ]
    },
    {
      "cell_type": "markdown",
      "metadata": {
        "id": "LG1rwSKtv7IX"
      },
      "source": [
        "**Why structured output?**\n",
        "--> Prevents LLM hallucinations by restricting possible outputs.\n",
        "\n",
        "**system message** --> acts as instruction to LLM\n",
        "\n",
        "**ChatPromptTemplate.from_messages([...])** → Defines a prompt template with dynamic input.\n",
        "**route_prompt | structured_llm_router** → Pipes the prompt into the LLM router."
      ]
    },
    {
      "cell_type": "code",
      "execution_count": null,
      "metadata": {
        "colab": {
          "base_uri": "https://localhost:8080/"
        },
        "id": "f4Wd9cgpwpmw",
        "outputId": "aef5cfb2-3a27-4a6d-b63e-c25cf1e71467"
      },
      "outputs": [
        {
          "name": "stdout",
          "output_type": "stream",
          "text": [
            "datasource='vectorstore'\n"
          ]
        }
      ],
      "source": [
        "print(\n",
        "    question_router.invoke(\n",
        "    {\n",
        "        \"question\":\"What is an agent?\"\n",
        "    }\n",
        ")\n",
        "    )"
      ]
    },
    {
      "cell_type": "code",
      "execution_count": null,
      "metadata": {
        "colab": {
          "base_uri": "https://localhost:8080/"
        },
        "id": "RIAP_bQyxX9N",
        "outputId": "6c9aa633-0294-4dd3-bfbb-3741c35e52dd"
      },
      "outputs": [
        {
          "name": "stdout",
          "output_type": "stream",
          "text": [
            "datasource='wiki_search'\n"
          ]
        }
      ],
      "source": [
        "print(\n",
        "    question_router.invoke(\n",
        "    {\n",
        "        \"question\":\"Who is Henry Cavill?\"\n",
        "    }\n",
        ")\n",
        "    )"
      ]
    },
    {
      "cell_type": "code",
      "execution_count": null,
      "metadata": {
        "colab": {
          "base_uri": "https://localhost:8080/"
        },
        "id": "IPtP1OelxcNq",
        "outputId": "939f3099-a652-4961-91c8-6580f2c1fcf9"
      },
      "outputs": [
        {
          "name": "stdout",
          "output_type": "stream",
          "text": [
            "Requirement already satisfied: langchain_community in /usr/local/lib/python3.11/dist-packages (0.3.18)\n",
            "Requirement already satisfied: langchain-core<1.0.0,>=0.3.37 in /usr/local/lib/python3.11/dist-packages (from langchain_community) (0.3.37)\n",
            "Requirement already satisfied: langchain<1.0.0,>=0.3.19 in /usr/local/lib/python3.11/dist-packages (from langchain_community) (0.3.19)\n",
            "Requirement already satisfied: SQLAlchemy<3,>=1.4 in /usr/local/lib/python3.11/dist-packages (from langchain_community) (2.0.38)\n",
            "Requirement already satisfied: requests<3,>=2 in /usr/local/lib/python3.11/dist-packages (from langchain_community) (2.32.3)\n",
            "Requirement already satisfied: PyYAML>=5.3 in /usr/local/lib/python3.11/dist-packages (from langchain_community) (6.0.2)\n",
            "Requirement already satisfied: aiohttp<4.0.0,>=3.8.3 in /usr/local/lib/python3.11/dist-packages (from langchain_community) (3.11.12)\n",
            "Requirement already satisfied: tenacity!=8.4.0,<10,>=8.1.0 in /usr/local/lib/python3.11/dist-packages (from langchain_community) (9.0.0)\n",
            "Requirement already satisfied: dataclasses-json<0.7,>=0.5.7 in /usr/local/lib/python3.11/dist-packages (from langchain_community) (0.6.7)\n",
            "Requirement already satisfied: pydantic-settings<3.0.0,>=2.4.0 in /usr/local/lib/python3.11/dist-packages (from langchain_community) (2.8.0)\n",
            "Requirement already satisfied: langsmith<0.4,>=0.1.125 in /usr/local/lib/python3.11/dist-packages (from langchain_community) (0.3.8)\n",
            "Requirement already satisfied: httpx-sse<1.0.0,>=0.4.0 in /usr/local/lib/python3.11/dist-packages (from langchain_community) (0.4.0)\n",
            "Requirement already satisfied: numpy<2,>=1.26.4 in /usr/local/lib/python3.11/dist-packages (from langchain_community) (1.26.4)\n",
            "Requirement already satisfied: aiohappyeyeballs>=2.3.0 in /usr/local/lib/python3.11/dist-packages (from aiohttp<4.0.0,>=3.8.3->langchain_community) (2.4.6)\n",
            "Requirement already satisfied: aiosignal>=1.1.2 in /usr/local/lib/python3.11/dist-packages (from aiohttp<4.0.0,>=3.8.3->langchain_community) (1.3.2)\n",
            "Requirement already satisfied: attrs>=17.3.0 in /usr/local/lib/python3.11/dist-packages (from aiohttp<4.0.0,>=3.8.3->langchain_community) (25.1.0)\n",
            "Requirement already satisfied: frozenlist>=1.1.1 in /usr/local/lib/python3.11/dist-packages (from aiohttp<4.0.0,>=3.8.3->langchain_community) (1.5.0)\n",
            "Requirement already satisfied: multidict<7.0,>=4.5 in /usr/local/lib/python3.11/dist-packages (from aiohttp<4.0.0,>=3.8.3->langchain_community) (6.1.0)\n",
            "Requirement already satisfied: propcache>=0.2.0 in /usr/local/lib/python3.11/dist-packages (from aiohttp<4.0.0,>=3.8.3->langchain_community) (0.2.1)\n",
            "Requirement already satisfied: yarl<2.0,>=1.17.0 in /usr/local/lib/python3.11/dist-packages (from aiohttp<4.0.0,>=3.8.3->langchain_community) (1.18.3)\n",
            "Requirement already satisfied: marshmallow<4.0.0,>=3.18.0 in /usr/local/lib/python3.11/dist-packages (from dataclasses-json<0.7,>=0.5.7->langchain_community) (3.26.1)\n",
            "Requirement already satisfied: typing-inspect<1,>=0.4.0 in /usr/local/lib/python3.11/dist-packages (from dataclasses-json<0.7,>=0.5.7->langchain_community) (0.9.0)\n",
            "Requirement already satisfied: langchain-text-splitters<1.0.0,>=0.3.6 in /usr/local/lib/python3.11/dist-packages (from langchain<1.0.0,>=0.3.19->langchain_community) (0.3.6)\n",
            "Requirement already satisfied: pydantic<3.0.0,>=2.7.4 in /usr/local/lib/python3.11/dist-packages (from langchain<1.0.0,>=0.3.19->langchain_community) (2.10.6)\n",
            "Requirement already satisfied: jsonpatch<2.0,>=1.33 in /usr/local/lib/python3.11/dist-packages (from langchain-core<1.0.0,>=0.3.37->langchain_community) (1.33)\n",
            "Requirement already satisfied: packaging<25,>=23.2 in /usr/local/lib/python3.11/dist-packages (from langchain-core<1.0.0,>=0.3.37->langchain_community) (24.2)\n",
            "Requirement already satisfied: typing-extensions>=4.7 in /usr/local/lib/python3.11/dist-packages (from langchain-core<1.0.0,>=0.3.37->langchain_community) (4.12.2)\n",
            "Requirement already satisfied: httpx<1,>=0.23.0 in /usr/local/lib/python3.11/dist-packages (from langsmith<0.4,>=0.1.125->langchain_community) (0.28.1)\n",
            "Requirement already satisfied: orjson<4.0.0,>=3.9.14 in /usr/local/lib/python3.11/dist-packages (from langsmith<0.4,>=0.1.125->langchain_community) (3.10.15)\n",
            "Requirement already satisfied: requests-toolbelt<2.0.0,>=1.0.0 in /usr/local/lib/python3.11/dist-packages (from langsmith<0.4,>=0.1.125->langchain_community) (1.0.0)\n",
            "Requirement already satisfied: zstandard<0.24.0,>=0.23.0 in /usr/local/lib/python3.11/dist-packages (from langsmith<0.4,>=0.1.125->langchain_community) (0.23.0)\n",
            "Requirement already satisfied: python-dotenv>=0.21.0 in /usr/local/lib/python3.11/dist-packages (from pydantic-settings<3.0.0,>=2.4.0->langchain_community) (1.0.1)\n",
            "Requirement already satisfied: charset-normalizer<4,>=2 in /usr/local/lib/python3.11/dist-packages (from requests<3,>=2->langchain_community) (3.4.1)\n",
            "Requirement already satisfied: idna<4,>=2.5 in /usr/local/lib/python3.11/dist-packages (from requests<3,>=2->langchain_community) (3.10)\n",
            "Requirement already satisfied: urllib3<3,>=1.21.1 in /usr/local/lib/python3.11/dist-packages (from requests<3,>=2->langchain_community) (2.3.0)\n",
            "Requirement already satisfied: certifi>=2017.4.17 in /usr/local/lib/python3.11/dist-packages (from requests<3,>=2->langchain_community) (2025.1.31)\n",
            "Requirement already satisfied: greenlet!=0.4.17 in /usr/local/lib/python3.11/dist-packages (from SQLAlchemy<3,>=1.4->langchain_community) (3.1.1)\n",
            "Requirement already satisfied: anyio in /usr/local/lib/python3.11/dist-packages (from httpx<1,>=0.23.0->langsmith<0.4,>=0.1.125->langchain_community) (3.7.1)\n",
            "Requirement already satisfied: httpcore==1.* in /usr/local/lib/python3.11/dist-packages (from httpx<1,>=0.23.0->langsmith<0.4,>=0.1.125->langchain_community) (1.0.7)\n",
            "Requirement already satisfied: h11<0.15,>=0.13 in /usr/local/lib/python3.11/dist-packages (from httpcore==1.*->httpx<1,>=0.23.0->langsmith<0.4,>=0.1.125->langchain_community) (0.14.0)\n",
            "Requirement already satisfied: jsonpointer>=1.9 in /usr/local/lib/python3.11/dist-packages (from jsonpatch<2.0,>=1.33->langchain-core<1.0.0,>=0.3.37->langchain_community) (3.0.0)\n",
            "Requirement already satisfied: annotated-types>=0.6.0 in /usr/local/lib/python3.11/dist-packages (from pydantic<3.0.0,>=2.7.4->langchain<1.0.0,>=0.3.19->langchain_community) (0.7.0)\n",
            "Requirement already satisfied: pydantic-core==2.27.2 in /usr/local/lib/python3.11/dist-packages (from pydantic<3.0.0,>=2.7.4->langchain<1.0.0,>=0.3.19->langchain_community) (2.27.2)\n",
            "Requirement already satisfied: mypy-extensions>=0.3.0 in /usr/local/lib/python3.11/dist-packages (from typing-inspect<1,>=0.4.0->dataclasses-json<0.7,>=0.5.7->langchain_community) (1.0.0)\n",
            "Requirement already satisfied: sniffio>=1.1 in /usr/local/lib/python3.11/dist-packages (from anyio->httpx<1,>=0.23.0->langsmith<0.4,>=0.1.125->langchain_community) (1.3.1)\n",
            "Collecting wikipedia\n",
            "  Downloading wikipedia-1.4.0.tar.gz (27 kB)\n",
            "  Preparing metadata (setup.py) ... \u001b[?25l\u001b[?25hdone\n",
            "Requirement already satisfied: beautifulsoup4 in /usr/local/lib/python3.11/dist-packages (from wikipedia) (4.13.3)\n",
            "Requirement already satisfied: requests<3.0.0,>=2.0.0 in /usr/local/lib/python3.11/dist-packages (from wikipedia) (2.32.3)\n",
            "Requirement already satisfied: charset-normalizer<4,>=2 in /usr/local/lib/python3.11/dist-packages (from requests<3.0.0,>=2.0.0->wikipedia) (3.4.1)\n",
            "Requirement already satisfied: idna<4,>=2.5 in /usr/local/lib/python3.11/dist-packages (from requests<3.0.0,>=2.0.0->wikipedia) (3.10)\n",
            "Requirement already satisfied: urllib3<3,>=1.21.1 in /usr/local/lib/python3.11/dist-packages (from requests<3.0.0,>=2.0.0->wikipedia) (2.3.0)\n",
            "Requirement already satisfied: certifi>=2017.4.17 in /usr/local/lib/python3.11/dist-packages (from requests<3.0.0,>=2.0.0->wikipedia) (2025.1.31)\n",
            "Requirement already satisfied: soupsieve>1.2 in /usr/local/lib/python3.11/dist-packages (from beautifulsoup4->wikipedia) (2.6)\n",
            "Requirement already satisfied: typing-extensions>=4.0.0 in /usr/local/lib/python3.11/dist-packages (from beautifulsoup4->wikipedia) (4.12.2)\n",
            "Building wheels for collected packages: wikipedia\n",
            "  Building wheel for wikipedia (setup.py) ... \u001b[?25l\u001b[?25hdone\n",
            "  Created wheel for wikipedia: filename=wikipedia-1.4.0-py3-none-any.whl size=11679 sha256=1ac1f96f5ee62ec5ffe153e4d0aeaba7045d12aa01ccb0dface8773d5a062258\n",
            "  Stored in directory: /root/.cache/pip/wheels/8f/ab/cb/45ccc40522d3a1c41e1d2ad53b8f33a62f394011ec38cd71c6\n",
            "Successfully built wikipedia\n",
            "Installing collected packages: wikipedia\n",
            "Successfully installed wikipedia-1.4.0\n"
          ]
        }
      ],
      "source": [
        "!pip install langchain_community\n",
        "!pip install wikipedia"
      ]
    },
    {
      "cell_type": "code",
      "execution_count": null,
      "metadata": {
        "id": "mpAFRFlBxzJh"
      },
      "outputs": [],
      "source": [
        "from langchain_community.utilities import WikipediaAPIWrapper\n",
        "from langchain_community.tools import WikipediaQueryRun\n",
        "\n",
        "api_wrapper = WikipediaAPIWrapper(top_k_results=1, doc_content_chars_max=200)\n",
        "wiki=WikipediaQueryRun(api_wrapper=api_wrapper)\n"
      ]
    },
    {
      "cell_type": "code",
      "execution_count": null,
      "metadata": {
        "colab": {
          "base_uri": "https://localhost:8080/",
          "height": 53
        },
        "id": "x_fOcAsPyVPD",
        "outputId": "1728531c-83de-4722-c542-bd2c9c63af33"
      },
      "outputs": [
        {
          "data": {
            "application/vnd.google.colaboratory.intrinsic+json": {
              "type": "string"
            },
            "text/plain": [
              "\"Page: Superman in film\\nSummary: DC Comics's Superman franchise, based on the character of the same name created by Jerry Siegel and Joe Shuster in June 1938, has seen the release of various films sinc\""
            ]
          },
          "execution_count": 54,
          "metadata": {},
          "output_type": "execute_result"
        }
      ],
      "source": [
        "wiki.run(\"Tell me about Henry Cavill\")"
      ]
    },
    {
      "cell_type": "code",
      "execution_count": null,
      "metadata": {
        "id": "o-ZqbKK2yjVp"
      },
      "outputs": [],
      "source": [
        "#AI Agent application using Langgraph\n",
        "\n",
        "from typing import Annotated\n",
        "from typing_extensions import TypedDict\n",
        "\n",
        "class GraphState(TypedDict):\n",
        "  \"\"\"\n",
        "  Represents the state of the graph\n",
        "\n",
        "  Attributes:\n",
        "      question: question\n",
        "      generation:  LLM generation\n",
        "      documents: list of documents\n",
        "  \"\"\"\n",
        "\n",
        "  question: str\n",
        "  generation: str\n",
        "  documents: list[str]\n",
        "\n"
      ]
    },
    {
      "cell_type": "code",
      "execution_count": null,
      "metadata": {
        "id": "5BBCvA0NT0Gy"
      },
      "outputs": [],
      "source": [
        "from langchain.schema import Document\n",
        "\n",
        "def retrieve(state):\n",
        "  print(\"\\n\\n---Retreive--\\n\\n\")\n",
        "  questions = state[\"question\"]\n",
        "\n",
        "  #Retreival\n",
        "  documents = retriever.invoke(questions)\n",
        "  return {\"documents\":documents,\"question\":questions}\n",
        "\n"
      ]
    },
    {
      "cell_type": "code",
      "execution_count": null,
      "metadata": {
        "id": "Me4N40pwUvWX"
      },
      "outputs": [],
      "source": [
        "def wiki_search(state):\n",
        "  print(\"\\n---Wikipedia---\\n\\n\")\n",
        "  question = state[\"question\"]\n",
        "  print(question)\n",
        "\n",
        "  #wiki search\n",
        "  docs=wiki.invoke({\"query\":question})\n",
        "\n",
        "  #print(docs[\"summary\"])\n",
        "  wiki_results = docs\n",
        "  wiki_results = Document(page_content=wiki_results)\n",
        "\n",
        "  return {\"documents\": wiki_results, \"question\":question}\n",
        "\n"
      ]
    },
    {
      "cell_type": "code",
      "execution_count": null,
      "metadata": {
        "id": "xEvHSBcnV86W"
      },
      "outputs": [],
      "source": [
        "#Routing functionality\n",
        "\n",
        "def route_question(state):\n",
        "  print(\"\\n---ROUTE QUESTION---\\n\\n\")\n",
        "  question=state[\"question\"]\n",
        "  source=question_router.invoke({\"question\":question})\n",
        "\n",
        "  if source.datasource == \"wiki_search\":\n",
        "    print(\"--ROUTE QUESTION TO WIKIPEDIA--\\n\")\n",
        "    return \"wiki_search\"\n",
        "  elif source.datasource == \"vectorstore\":\n",
        "    print(\"--ROUTE QUESTION TO RAG--\\n\")\n",
        "    return \"vectorstore\""
      ]
    },
    {
      "cell_type": "code",
      "execution_count": null,
      "metadata": {
        "id": "HiyhrggFWxHp"
      },
      "outputs": [],
      "source": [
        "#langgraph flow\n",
        "from langgraph.graph import StateGraph, END, START\n",
        "\n",
        "workflow = StateGraph(GraphState)\n",
        "\n",
        "#Define nodes\n",
        "workflow.add_node(\"wiki_search\",wiki_search)              #websearch\n",
        "workflow.add_node(\"retrieve\",retrieve)                    #vectorDB search\n",
        "\n",
        "#Build the graph\n",
        "workflow.add_conditional_edges(\n",
        "    START,\n",
        "    route_question,\n",
        "    {\n",
        "        \"wiki_search\":\"wiki_search\",\n",
        "        \"vectorstore\":\"retrieve\",\n",
        "    },\n",
        ")\n",
        "\n",
        "workflow.add_edge(\"retrieve\",END)\n",
        "workflow.add_edge(\"wiki_search\",END)\n",
        "\n",
        "#compile the graph\n",
        "\n",
        "graph = workflow.compile()\n"
      ]
    },
    {
      "cell_type": "code",
      "execution_count": null,
      "metadata": {
        "colab": {
          "base_uri": "https://localhost:8080/",
          "height": 275
        },
        "id": "FSNKuhFxYCTx",
        "outputId": "154bc0f2-441c-464a-9f17-80bd39e41464"
      },
      "outputs": [
        {
          "data": {
            "image/png": "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",
            "text/plain": [
              "<IPython.core.display.Image object>"
            ]
          },
          "metadata": {},
          "output_type": "display_data"
        }
      ],
      "source": [
        "from IPython.display import Image, display\n",
        "\n",
        "try:\n",
        "  display(Image(graph.get_graph().draw_mermaid_png()))\n",
        "except Exception:\n",
        "  pass"
      ]
    },
    {
      "cell_type": "code",
      "execution_count": null,
      "metadata": {
        "colab": {
          "base_uri": "https://localhost:8080/"
        },
        "id": "dIc29NKDYXna",
        "outputId": "f6f97bfc-ea5f-44cb-8bb0-2a316cb7f466"
      },
      "outputs": [
        {
          "name": "stdout",
          "output_type": "stream",
          "text": [
            "\n",
            "---ROUTE QUESTION---\n",
            "\n",
            "\n"
          ]
        },
        {
          "name": "stderr",
          "output_type": "stream",
          "text": [
            "WARNING:cassandra.protocol:Server warning: Top-K queries can only be run with consistency level ONE / LOCAL_ONE / NODE_LOCAL. Consistency level LOCAL_QUORUM was requested. Downgrading the consistency level to LOCAL_ONE.\n"
          ]
        },
        {
          "name": "stdout",
          "output_type": "stream",
          "text": [
            "--ROUTE QUESTION TO RAG--\n",
            "\n",
            "\n",
            "\n",
            "---Retreive--\n",
            "\n",
            "\n",
            "\"Node 'retrieve':\"\n",
            "'\\n---\\n'\n",
            "('Building agents with LLM (large language model) as its core controller is a '\n",
            " 'cool concept. Several proof-of-concepts demos, such as AutoGPT, GPT-Engineer '\n",
            " 'and BabyAGI, serve as inspiring examples. The potentiality of LLM extends '\n",
            " 'beyond generating well-written copies, stories, essays and programs; it can '\n",
            " 'be framed as a powerful general problem solver.\\n'\n",
            " 'Agent System Overview\\n'\n",
            " 'In a LLM-powered autonomous agent system, LLM functions as the agent’s '\n",
            " 'brain, complemented by several key components:\\n'\n",
            " '\\n'\n",
            " 'Planning\\n'\n",
            " '\\n'\n",
            " 'Subgoal and decomposition: The agent breaks down large tasks into smaller, '\n",
            " 'manageable subgoals, enabling efficient handling of complex tasks.\\n'\n",
            " 'Reflection and refinement: The agent can do self-criticism and '\n",
            " 'self-reflection over past actions, learn from mistakes and refine them for '\n",
            " 'future steps, thereby improving the quality of final results.\\n'\n",
            " '\\n'\n",
            " '\\n'\n",
            " 'Memory\\n'\n",
            " '\\n'\n",
            " 'Short-term memory: I would consider all the in-context learning (See Prompt '\n",
            " 'Engineering) as utilizing short-term memory of the model to learn.\\n'\n",
            " 'Long-term memory: This provides the agent with the capability to retain and '\n",
            " 'recall (infinite) information over extended periods, often by leveraging an '\n",
            " 'external vector store and fast retrieval.\\n'\n",
            " '\\n'\n",
            " '\\n'\n",
            " 'Tool use\\n'\n",
            " '\\n'\n",
            " 'The agent learns to call external APIs for extra information that is missing '\n",
            " 'from the model weights (often hard to change after pre-training), including '\n",
            " 'current information, code execution capability, access to proprietary '\n",
            " 'information sources and more.\\n'\n",
            " '\\n'\n",
            " '\\n'\n",
            " '\\n'\n",
            " '\\n'\n",
            " 'Fig. 1. Overview of a LLM-powered autonomous agent system.\\n'\n",
            " 'Component One: Planning\\n'\n",
            " 'A complicated task usually involves many steps. An agent needs to know what '\n",
            " 'they are and plan ahead.')\n"
          ]
        },
        {
          "name": "stderr",
          "output_type": "stream",
          "text": [
            "<ipython-input-61-4ffa7e770307>:16: PydanticDeprecatedSince20: The `dict` method is deprecated; use `model_dump` instead. Deprecated in Pydantic V2.0 to be removed in V3.0. See Pydantic V2 Migration Guide at https://errors.pydantic.dev/2.10/migration/\n",
            "  pprint(value['documents'][0].dict()['metadata']['description'])\n"
          ]
        }
      ],
      "source": [
        "from pprint import pprint\n",
        "\n",
        "# Run\n",
        "inputs = {\n",
        "    \"question\": \"What is agent?\"\n",
        "}\n",
        "for output in graph.stream(inputs):\n",
        "    for key, value in output.items():\n",
        "        # Node\n",
        "        pprint(f\"Node '{key}':\")\n",
        "        # Optional: print full state at each node\n",
        "        # pprint.pprint(value[\"keys\"], indent=2, width=80, depth=None)\n",
        "    pprint(\"\\n---\\n\")\n",
        "\n",
        "# Final generation\n",
        "pprint(value['documents'][0].dict()['metadata']['description'])"
      ]
    },
    {
      "cell_type": "code",
      "execution_count": null,
      "metadata": {
        "colab": {
          "base_uri": "https://localhost:8080/"
        },
        "id": "GLsr2OmTYpVz",
        "outputId": "28f206bb-f129-43e8-c845-e7cf83c9ee16"
      },
      "outputs": [
        {
          "name": "stdout",
          "output_type": "stream",
          "text": [
            "\n",
            "---ROUTE QUESTION---\n",
            "\n",
            "\n",
            "--ROUTE QUESTION TO WIKIPEDIA--\n",
            "\n",
            "\n",
            "---Wikipedia---\n",
            "\n",
            "\n",
            "shah rukh khan\n",
            "\"Node 'wiki_search':\"\n",
            "'\\n---\\n'\n",
            "Document(metadata={}, page_content='Page: Shah Rukh Khan\\nSummary: Shah Rukh Khan (pronounced [ˈʃaːɦɾʊx xäːn] ; born 2 November 1965), also known by the initialism SRK, is an Indian actor and film producer who works in Hindi cinema. Refe')\n"
          ]
        }
      ],
      "source": [
        "from pprint import pprint\n",
        "\n",
        "# Run\n",
        "inputs = {\n",
        "    \"question\": \"shah rukh khan\"\n",
        "}\n",
        "for output in graph.stream(inputs):\n",
        "    for key, value in output.items():\n",
        "        # Node\n",
        "        pprint(f\"Node '{key}':\")\n",
        "        # Optional: print full state at each node\n",
        "        # pprint.pprint(value[\"keys\"], indent=2, width=80, depth=None)\n",
        "    pprint(\"\\n---\\n\")\n",
        "\n",
        "# Final generation\n",
        "pprint(value['documents'])"
      ]
    }
  ],
  "metadata": {
    "accelerator": "GPU",
    "colab": {
      "gpuType": "T4",
      "provenance": []
    },
    "kernelspec": {
      "display_name": "Python 3",
      "name": "python3"
    },
    "language_info": {
      "name": "python"
    }
  },
  "nbformat": 4,
  "nbformat_minor": 0
}
